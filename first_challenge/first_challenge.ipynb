{
 "cells": [
  {
   "cell_type": "code",
   "execution_count": 55,
   "metadata": {},
   "outputs": [],
   "source": [
    "import requests\n",
    "import pandas as pd\n",
    "import json\n",
    "import matplotlib.pyplot as plt"
   ]
  },
  {
   "cell_type": "markdown",
   "metadata": {},
   "source": [
    "Get the data of the url"
   ]
  },
  {
   "cell_type": "code",
   "execution_count": 56,
   "metadata": {},
   "outputs": [],
   "source": [
    "urlData = requests.get(\"https://api.stackexchange.com/2.2/search?order=desc&sort=activity&intitle=perl&site=stackoverflow\").content\n",
    "data = json.loads(urlData)"
   ]
  },
  {
   "cell_type": "markdown",
   "metadata": {},
   "source": [
    "Se cargan los datos en un data frame para optimizar la busqueda de elementos dependiendo a la categoría de interés. Además se visualizan los datos para tener una mejor comprensión de la estructura."
   ]
  },
  {
   "cell_type": "code",
   "execution_count": 57,
   "metadata": {},
   "outputs": [
    {
     "data": {
      "text/html": [
       "<div>\n",
       "<style scoped>\n",
       "    .dataframe tbody tr th:only-of-type {\n",
       "        vertical-align: middle;\n",
       "    }\n",
       "\n",
       "    .dataframe tbody tr th {\n",
       "        vertical-align: top;\n",
       "    }\n",
       "\n",
       "    .dataframe thead th {\n",
       "        text-align: right;\n",
       "    }\n",
       "</style>\n",
       "<table border=\"1\" class=\"dataframe\">\n",
       "  <thead>\n",
       "    <tr style=\"text-align: right;\">\n",
       "      <th></th>\n",
       "      <th>tags</th>\n",
       "      <th>owner</th>\n",
       "      <th>is_answered</th>\n",
       "      <th>view_count</th>\n",
       "      <th>answer_count</th>\n",
       "      <th>score</th>\n",
       "      <th>last_activity_date</th>\n",
       "      <th>creation_date</th>\n",
       "      <th>last_edit_date</th>\n",
       "      <th>question_id</th>\n",
       "      <th>content_license</th>\n",
       "      <th>link</th>\n",
       "      <th>title</th>\n",
       "      <th>accepted_answer_id</th>\n",
       "      <th>closed_date</th>\n",
       "      <th>closed_reason</th>\n",
       "    </tr>\n",
       "  </thead>\n",
       "  <tbody>\n",
       "    <tr>\n",
       "      <th>0</th>\n",
       "      <td>[regex, regexp-replace, re2, re2j]</td>\n",
       "      <td>{'reputation': 1, 'user_id': 19772458, 'user_t...</td>\n",
       "      <td>False</td>\n",
       "      <td>21</td>\n",
       "      <td>1</td>\n",
       "      <td>0</td>\n",
       "      <td>1660623598</td>\n",
       "      <td>2022-08-16 03:50:22</td>\n",
       "      <td>1.660623e+09</td>\n",
       "      <td>73368606</td>\n",
       "      <td>CC BY-SA 4.0</td>\n",
       "      <td>https://stackoverflow.com/questions/73368606/e...</td>\n",
       "      <td>error parsing regexp invalid or unsupported Pe...</td>\n",
       "      <td>NaN</td>\n",
       "      <td>NaN</td>\n",
       "      <td>NaN</td>\n",
       "    </tr>\n",
       "    <tr>\n",
       "      <th>1</th>\n",
       "      <td>[arrays, list, scalar, perl]</td>\n",
       "      <td>{'reputation': 3105, 'user_id': 926841, 'user_...</td>\n",
       "      <td>True</td>\n",
       "      <td>642</td>\n",
       "      <td>3</td>\n",
       "      <td>3</td>\n",
       "      <td>1660615579</td>\n",
       "      <td>2019-08-03 05:36:51</td>\n",
       "      <td>1.564816e+09</td>\n",
       "      <td>57335742</td>\n",
       "      <td>CC BY-SA 4.0</td>\n",
       "      <td>https://stackoverflow.com/questions/57335742/p...</td>\n",
       "      <td>Perl: Length of an anonymous list</td>\n",
       "      <td>57335765.0</td>\n",
       "      <td>NaN</td>\n",
       "      <td>NaN</td>\n",
       "    </tr>\n",
       "    <tr>\n",
       "      <th>2</th>\n",
       "      <td>[regex, linux, perl]</td>\n",
       "      <td>{'reputation': 31, 'user_id': 18499418, 'user_...</td>\n",
       "      <td>True</td>\n",
       "      <td>48</td>\n",
       "      <td>1</td>\n",
       "      <td>1</td>\n",
       "      <td>1660602684</td>\n",
       "      <td>2022-08-15 18:18:36</td>\n",
       "      <td>1.660602e+09</td>\n",
       "      <td>73364936</td>\n",
       "      <td>CC BY-SA 4.0</td>\n",
       "      <td>https://stackoverflow.com/questions/73364936/i...</td>\n",
       "      <td>Is there a way to retain perl regex captures w...</td>\n",
       "      <td>NaN</td>\n",
       "      <td>NaN</td>\n",
       "      <td>NaN</td>\n",
       "    </tr>\n",
       "    <tr>\n",
       "      <th>3</th>\n",
       "      <td>[macos, perl, libpng]</td>\n",
       "      <td>{'reputation': 9, 'user_id': 19767508, 'user_t...</td>\n",
       "      <td>False</td>\n",
       "      <td>43</td>\n",
       "      <td>1</td>\n",
       "      <td>0</td>\n",
       "      <td>1660601758</td>\n",
       "      <td>2022-08-15 11:40:25</td>\n",
       "      <td>1.660572e+09</td>\n",
       "      <td>73360506</td>\n",
       "      <td>CC BY-SA 4.0</td>\n",
       "      <td>https://stackoverflow.com/questions/73360506/p...</td>\n",
       "      <td>Perl Imager - libpng PNG libraries or headers ...</td>\n",
       "      <td>NaN</td>\n",
       "      <td>NaN</td>\n",
       "      <td>NaN</td>\n",
       "    </tr>\n",
       "    <tr>\n",
       "      <th>4</th>\n",
       "      <td>[perl]</td>\n",
       "      <td>{'reputation': 25, 'user_id': 18266889, 'user_...</td>\n",
       "      <td>True</td>\n",
       "      <td>77</td>\n",
       "      <td>1</td>\n",
       "      <td>2</td>\n",
       "      <td>1660575957</td>\n",
       "      <td>2022-08-15 10:57:09</td>\n",
       "      <td>1.660572e+09</td>\n",
       "      <td>73360040</td>\n",
       "      <td>CC BY-SA 4.0</td>\n",
       "      <td>https://stackoverflow.com/questions/73360040/e...</td>\n",
       "      <td>Explanation for Perl syntax needed</td>\n",
       "      <td>73362158.0</td>\n",
       "      <td>NaN</td>\n",
       "      <td>NaN</td>\n",
       "    </tr>\n",
       "  </tbody>\n",
       "</table>\n",
       "</div>"
      ],
      "text/plain": [
       "                                 tags  \\\n",
       "0  [regex, regexp-replace, re2, re2j]   \n",
       "1        [arrays, list, scalar, perl]   \n",
       "2                [regex, linux, perl]   \n",
       "3               [macos, perl, libpng]   \n",
       "4                              [perl]   \n",
       "\n",
       "                                               owner  is_answered  view_count  \\\n",
       "0  {'reputation': 1, 'user_id': 19772458, 'user_t...        False          21   \n",
       "1  {'reputation': 3105, 'user_id': 926841, 'user_...         True         642   \n",
       "2  {'reputation': 31, 'user_id': 18499418, 'user_...         True          48   \n",
       "3  {'reputation': 9, 'user_id': 19767508, 'user_t...        False          43   \n",
       "4  {'reputation': 25, 'user_id': 18266889, 'user_...         True          77   \n",
       "\n",
       "   answer_count  score  last_activity_date       creation_date  \\\n",
       "0             1      0          1660623598 2022-08-16 03:50:22   \n",
       "1             3      3          1660615579 2019-08-03 05:36:51   \n",
       "2             1      1          1660602684 2022-08-15 18:18:36   \n",
       "3             1      0          1660601758 2022-08-15 11:40:25   \n",
       "4             1      2          1660575957 2022-08-15 10:57:09   \n",
       "\n",
       "   last_edit_date  question_id content_license  \\\n",
       "0    1.660623e+09     73368606    CC BY-SA 4.0   \n",
       "1    1.564816e+09     57335742    CC BY-SA 4.0   \n",
       "2    1.660602e+09     73364936    CC BY-SA 4.0   \n",
       "3    1.660572e+09     73360506    CC BY-SA 4.0   \n",
       "4    1.660572e+09     73360040    CC BY-SA 4.0   \n",
       "\n",
       "                                                link  \\\n",
       "0  https://stackoverflow.com/questions/73368606/e...   \n",
       "1  https://stackoverflow.com/questions/57335742/p...   \n",
       "2  https://stackoverflow.com/questions/73364936/i...   \n",
       "3  https://stackoverflow.com/questions/73360506/p...   \n",
       "4  https://stackoverflow.com/questions/73360040/e...   \n",
       "\n",
       "                                               title  accepted_answer_id  \\\n",
       "0  error parsing regexp invalid or unsupported Pe...                 NaN   \n",
       "1                  Perl: Length of an anonymous list          57335765.0   \n",
       "2  Is there a way to retain perl regex captures w...                 NaN   \n",
       "3  Perl Imager - libpng PNG libraries or headers ...                 NaN   \n",
       "4                 Explanation for Perl syntax needed          73362158.0   \n",
       "\n",
       "   closed_date closed_reason  \n",
       "0          NaN           NaN  \n",
       "1          NaN           NaN  \n",
       "2          NaN           NaN  \n",
       "3          NaN           NaN  \n",
       "4          NaN           NaN  "
      ]
     },
     "execution_count": 57,
     "metadata": {},
     "output_type": "execute_result"
    }
   ],
   "source": [
    "items = pd.DataFrame(data['items'])\n",
    "items['creation_date'] = pd.to_datetime(items['creation_date'],unit='s')\n",
    "items.head()"
   ]
  },
  {
   "cell_type": "markdown",
   "metadata": {},
   "source": [
    "Se declaran dos listas para contener a los items que tengan el atributo 'is_answered' como true o false y se cataloga cada dato añadiendolo a la lista correspondiente"
   ]
  },
  {
   "cell_type": "code",
   "execution_count": 58,
   "metadata": {},
   "outputs": [],
   "source": [
    "data_answered = []\n",
    "data_notAnswered = []\n",
    "for item in data['items']:\n",
    "    if item['is_answered'] == True:\n",
    "        data_answered.append(item)\n",
    "    else: data_notAnswered.append(item)"
   ]
  },
  {
   "cell_type": "markdown",
   "metadata": {},
   "source": [
    "Se muestra el número de respuestas contestadas"
   ]
  },
  {
   "cell_type": "code",
   "execution_count": 59,
   "metadata": {},
   "outputs": [
    {
     "name": "stdout",
     "output_type": "stream",
     "text": [
      "El número de respuestas contestadas es  23\n"
     ]
    }
   ],
   "source": [
    "print(\"El número de respuestas contestadas es \", len(data_answered))"
   ]
  },
  {
   "cell_type": "markdown",
   "metadata": {},
   "source": [
    "Se muestra el número de respuestas no contestadas"
   ]
  },
  {
   "cell_type": "code",
   "execution_count": 60,
   "metadata": {},
   "outputs": [
    {
     "name": "stdout",
     "output_type": "stream",
     "text": [
      "El número de respuestas no contestadas es  7\n"
     ]
    }
   ],
   "source": [
    "print(\"El número de respuestas no contestadas es \", len(data_notAnswered))"
   ]
  },
  {
   "cell_type": "markdown",
   "metadata": {},
   "source": [
    "Visualización de las proporciones de las respuestas dependiendo a si fueron contestadas o no"
   ]
  },
  {
   "cell_type": "code",
   "execution_count": 61,
   "metadata": {},
   "outputs": [
    {
     "data": {
      "image/png": "[encoded data removed]",
      "text/plain": [
       "<Figure size 432x288 with 1 Axes>"
      ]
     },
     "metadata": {},
     "output_type": "display_data"
    }
   ],
   "source": [
    "plt.pie([len(data_answered),len(data_notAnswered)], labels= ['contestadas\\n'+str(len(data_answered)),'no contestadas\\n'+str(len(data_notAnswered))], shadow = True)\n",
    "plt.show()"
   ]
  },
  {
   "cell_type": "markdown",
   "metadata": {},
   "source": [
    "Organizando de menor a mayor el número de vistas de la respuesta en el data frame, se obtiene el elemento con menor número de vistas"
   ]
  },
  {
   "cell_type": "code",
   "execution_count": 62,
   "metadata": {},
   "outputs": [
    {
     "name": "stdout",
     "output_type": "stream",
     "text": [
      "Elemento con menor número de vistas:\n",
      " tags                                 [regex, regexp-replace, re2, re2j]\n",
      "owner                 {'reputation': 1, 'user_id': 19772458, 'user_t...\n",
      "is_answered                                                       False\n",
      "view_count                                                           21\n",
      "answer_count                                                          1\n",
      "score                                                                 0\n",
      "last_activity_date                                           1660623598\n",
      "creation_date                                       2022-08-16 03:50:22\n",
      "last_edit_date                                             1660622600.0\n",
      "question_id                                                    73368606\n",
      "content_license                                            CC BY-SA 4.0\n",
      "link                  https://stackoverflow.com/questions/73368606/e...\n",
      "title                 error parsing regexp invalid or unsupported Pe...\n",
      "accepted_answer_id                                                  NaN\n",
      "closed_date                                                         NaN\n",
      "closed_reason                                                       NaN\n",
      "Name: 0, dtype: object\n"
     ]
    }
   ],
   "source": [
    "byViews = items.sort_values('view_count')\n",
    "print(\"Elemento con menor número de vistas:\\n\",byViews.iloc[0])"
   ]
  },
  {
   "cell_type": "markdown",
   "metadata": {},
   "source": [
    "Organizando de menor a mayor el número de vistas de la respuesta en el data frame, se obtiene el elemento de la respuesta que es más antigua"
   ]
  },
  {
   "cell_type": "code",
   "execution_count": 63,
   "metadata": {},
   "outputs": [
    {
     "name": "stdout",
     "output_type": "stream",
     "text": [
      "Elemento de la respuesta que es más antigua:\n",
      " tags                                             [perl, cross-platform]\n",
      "owner                 {'reputation': 25631, 'user_id': 6444, 'user_t...\n",
      "is_answered                                                        True\n",
      "view_count                                                        69339\n",
      "answer_count                                                         11\n",
      "score                                                                60\n",
      "last_activity_date                                           1660317247\n",
      "creation_date                                       2008-12-02 16:59:00\n",
      "last_edit_date                                             1228353831.0\n",
      "question_id                                                      334686\n",
      "content_license                                            CC BY-SA 2.5\n",
      "link                  https://stackoverflow.com/questions/334686/how...\n",
      "title                    How can I detect the operating system in Perl?\n",
      "accepted_answer_id                                             334700.0\n",
      "closed_date                                                         NaN\n",
      "closed_reason                                                       NaN\n",
      "Name: 17, dtype: object\n"
     ]
    }
   ],
   "source": [
    "byCreationDate = items.sort_values('creation_date')\n",
    "print(\"Elemento de la respuesta que es más antigua:\\n\",byCreationDate.iloc[0])"
   ]
  },
  {
   "cell_type": "markdown",
   "metadata": {},
   "source": [
    "Y también se obtiene el elemento de la respuesta que más reciente"
   ]
  },
  {
   "cell_type": "code",
   "execution_count": 64,
   "metadata": {},
   "outputs": [
    {
     "name": "stdout",
     "output_type": "stream",
     "text": [
      "Elemento de la respuesta más reciente:\n",
      " tags                                 [regex, regexp-replace, re2, re2j]\n",
      "owner                 {'reputation': 1, 'user_id': 19772458, 'user_t...\n",
      "is_answered                                                       False\n",
      "view_count                                                           21\n",
      "answer_count                                                          1\n",
      "score                                                                 0\n",
      "last_activity_date                                           1660623598\n",
      "creation_date                                       2022-08-16 03:50:22\n",
      "last_edit_date                                             1660622600.0\n",
      "question_id                                                    73368606\n",
      "content_license                                            CC BY-SA 4.0\n",
      "link                  https://stackoverflow.com/questions/73368606/e...\n",
      "title                 error parsing regexp invalid or unsupported Pe...\n",
      "accepted_answer_id                                                  NaN\n",
      "closed_date                                                         NaN\n",
      "closed_reason                                                       NaN\n",
      "Name: 0, dtype: object\n"
     ]
    }
   ],
   "source": [
    "print(\"Elemento de la respuesta más reciente:\\n\",byCreationDate.iloc[-1])"
   ]
  },
  {
   "cell_type": "markdown",
   "metadata": {},
   "source": [
    "Finalmente, se obtiene la respuesta del usuario que tiene la mayor reputación."
   ]
  },
  {
   "cell_type": "code",
   "execution_count": 65,
   "metadata": {},
   "outputs": [
    {
     "name": "stdout",
     "output_type": "stream",
     "text": [
      "Respuesta del usuario con mayor reputación:\n",
      "                                                                    17\n",
      "tags                                           [perl, cross-platform]\n",
      "owner               {'reputation': 25631, 'user_id': 6444, 'user_t...\n",
      "is_answered                                                      True\n",
      "view_count                                                      69339\n",
      "answer_count                                                       11\n",
      "score                                                              60\n",
      "last_activity_date                                         1660317247\n",
      "creation_date                                     2008-12-02 16:59:00\n",
      "last_edit_date                                           1228353831.0\n",
      "question_id                                                    334686\n",
      "content_license                                          CC BY-SA 2.5\n",
      "link                https://stackoverflow.com/questions/334686/how...\n",
      "title                  How can I detect the operating system in Perl?\n",
      "accepted_answer_id                                           334700.0\n",
      "closed_date                                                       NaN\n",
      "closed_reason                                                     NaN\n"
     ]
    }
   ],
   "source": [
    "rep = 0\n",
    "for owner in items['owner']:\n",
    "    if owner['reputation'] > rep: \n",
    "        rep = owner['reputation']\n",
    "        bestOwner = owner\n",
    "resBestOwner = 0\n",
    "print(\"Respuesta del usuario con mayor reputación:\\n\",items.loc[items['owner'] == bestOwner].T)\n"
   ]
  }
 ],
 "metadata": {
  "kernelspec": {
   "display_name": "Python 3.9.12 ('base')",
   "language": "python",
   "name": "python3"
  },
  "language_info": {
   "codemirror_mode": {
    "name": "ipython",
    "version": 3
   },
   "file_extension": ".py",
   "mimetype": "text/x-python",
   "name": "python",
   "nbconvert_exporter": "python",
   "pygments_lexer": "ipython3",
   "version": "3.9.12"
  },
  "orig_nbformat": 4,
  "vscode": {
   "interpreter": {
    "hash": "3a95b72ad26caed2f125c20bb8f543b875a0d1a71c369d3d6c01c0c3af4e63b9"
   }
  }
 },
 "nbformat": 4,
 "nbformat_minor": 2
}
