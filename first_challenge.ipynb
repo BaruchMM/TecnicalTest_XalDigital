{
 "cells": [
  {
   "cell_type": "code",
   "execution_count": 117,
   "metadata": {},
   "outputs": [],
   "source": [
    "import numpy as np\n",
    "from urllib.request import urlopen\n",
    "import requests\n",
    "import pandas as pd\n",
    "import io\n",
    "import json\n",
    "import datetime"
   ]
  },
  {
   "cell_type": "code",
   "execution_count": 118,
   "metadata": {},
   "outputs": [],
   "source": [
    "urlData = requests.get(\"https://api.stackexchange.com/2.2/search?order=desc&sort=activity&intitle=perl&site=stackoverflow\").content\n",
    "data = json.loads(urlData)"
   ]
  },
  {
   "cell_type": "code",
   "execution_count": 119,
   "metadata": {},
   "outputs": [
    {
     "data": {
      "text/html": [
       "<div>\n",
       "<style scoped>\n",
       "    .dataframe tbody tr th:only-of-type {\n",
       "        vertical-align: middle;\n",
       "    }\n",
       "\n",
       "    .dataframe tbody tr th {\n",
       "        vertical-align: top;\n",
       "    }\n",
       "\n",
       "    .dataframe thead th {\n",
       "        text-align: right;\n",
       "    }\n",
       "</style>\n",
       "<table border=\"1\" class=\"dataframe\">\n",
       "  <thead>\n",
       "    <tr style=\"text-align: right;\">\n",
       "      <th></th>\n",
       "      <th>tags</th>\n",
       "      <th>owner</th>\n",
       "      <th>is_answered</th>\n",
       "      <th>view_count</th>\n",
       "      <th>accepted_answer_id</th>\n",
       "      <th>answer_count</th>\n",
       "      <th>score</th>\n",
       "      <th>last_activity_date</th>\n",
       "      <th>creation_date</th>\n",
       "      <th>last_edit_date</th>\n",
       "      <th>question_id</th>\n",
       "      <th>content_license</th>\n",
       "      <th>link</th>\n",
       "      <th>title</th>\n",
       "      <th>closed_date</th>\n",
       "      <th>closed_reason</th>\n",
       "    </tr>\n",
       "  </thead>\n",
       "  <tbody>\n",
       "    <tr>\n",
       "      <th>0</th>\n",
       "      <td>[perl]</td>\n",
       "      <td>{'reputation': 15, 'user_id': 18266889, 'user_...</td>\n",
       "      <td>True</td>\n",
       "      <td>65</td>\n",
       "      <td>73362158.0</td>\n",
       "      <td>1</td>\n",
       "      <td>1</td>\n",
       "      <td>1660575957</td>\n",
       "      <td>2022-08-15 10:57:09</td>\n",
       "      <td>1.660572e+09</td>\n",
       "      <td>73360040</td>\n",
       "      <td>CC BY-SA 4.0</td>\n",
       "      <td>https://stackoverflow.com/questions/73360040/e...</td>\n",
       "      <td>Explanation for Perl syntax needed</td>\n",
       "      <td>NaN</td>\n",
       "      <td>NaN</td>\n",
       "    </tr>\n",
       "    <tr>\n",
       "      <th>1</th>\n",
       "      <td>[macos, perl, libpng]</td>\n",
       "      <td>{'reputation': 1, 'user_id': 19767508, 'user_t...</td>\n",
       "      <td>False</td>\n",
       "      <td>29</td>\n",
       "      <td>NaN</td>\n",
       "      <td>1</td>\n",
       "      <td>0</td>\n",
       "      <td>1660571955</td>\n",
       "      <td>2022-08-15 11:40:25</td>\n",
       "      <td>1.660572e+09</td>\n",
       "      <td>73360506</td>\n",
       "      <td>CC BY-SA 4.0</td>\n",
       "      <td>https://stackoverflow.com/questions/73360506/p...</td>\n",
       "      <td>Perl Imager - libpng PNG libraries or headers ...</td>\n",
       "      <td>NaN</td>\n",
       "      <td>NaN</td>\n",
       "    </tr>\n",
       "    <tr>\n",
       "      <th>2</th>\n",
       "      <td>[perl]</td>\n",
       "      <td>{'reputation': 1228, 'user_id': 2856552, 'user...</td>\n",
       "      <td>True</td>\n",
       "      <td>148</td>\n",
       "      <td>68780839.0</td>\n",
       "      <td>3</td>\n",
       "      <td>1</td>\n",
       "      <td>1660546079</td>\n",
       "      <td>2021-08-14 05:46:17</td>\n",
       "      <td>NaN</td>\n",
       "      <td>68780689</td>\n",
       "      <td>CC BY-SA 4.0</td>\n",
       "      <td>https://stackoverflow.com/questions/68780689/w...</td>\n",
       "      <td>Why is my perl split(), at all 3rd occurences ...</td>\n",
       "      <td>NaN</td>\n",
       "      <td>NaN</td>\n",
       "    </tr>\n",
       "    <tr>\n",
       "      <th>3</th>\n",
       "      <td>[perl, version]</td>\n",
       "      <td>{'reputation': 23, 'user_id': 19383149, 'user_...</td>\n",
       "      <td>True</td>\n",
       "      <td>49</td>\n",
       "      <td>73344310.0</td>\n",
       "      <td>1</td>\n",
       "      <td>0</td>\n",
       "      <td>1660500298</td>\n",
       "      <td>2022-08-13 12:15:55</td>\n",
       "      <td>1.660500e+09</td>\n",
       "      <td>73344189</td>\n",
       "      <td>CC BY-SA 4.0</td>\n",
       "      <td>https://stackoverflow.com/questions/73344189/h...</td>\n",
       "      <td>How to check if my build version is above x.x....</td>\n",
       "      <td>NaN</td>\n",
       "      <td>NaN</td>\n",
       "    </tr>\n",
       "    <tr>\n",
       "      <th>4</th>\n",
       "      <td>[hex, ascii]</td>\n",
       "      <td>{'reputation': 4988, 'user_id': 5300329, 'user...</td>\n",
       "      <td>True</td>\n",
       "      <td>3420</td>\n",
       "      <td>42837921.0</td>\n",
       "      <td>4</td>\n",
       "      <td>1</td>\n",
       "      <td>1660452097</td>\n",
       "      <td>2017-03-16 07:57:34</td>\n",
       "      <td>1.660452e+09</td>\n",
       "      <td>42828273</td>\n",
       "      <td>CC BY-SA 4.0</td>\n",
       "      <td>https://stackoverflow.com/questions/42828273/b...</td>\n",
       "      <td>Bash. Hex to ascii. Is possible without xxd or...</td>\n",
       "      <td>NaN</td>\n",
       "      <td>NaN</td>\n",
       "    </tr>\n",
       "  </tbody>\n",
       "</table>\n",
       "</div>"
      ],
      "text/plain": [
       "                    tags                                              owner  \\\n",
       "0                 [perl]  {'reputation': 15, 'user_id': 18266889, 'user_...   \n",
       "1  [macos, perl, libpng]  {'reputation': 1, 'user_id': 19767508, 'user_t...   \n",
       "2                 [perl]  {'reputation': 1228, 'user_id': 2856552, 'user...   \n",
       "3        [perl, version]  {'reputation': 23, 'user_id': 19383149, 'user_...   \n",
       "4           [hex, ascii]  {'reputation': 4988, 'user_id': 5300329, 'user...   \n",
       "\n",
       "   is_answered  view_count  accepted_answer_id  answer_count  score  \\\n",
       "0         True          65          73362158.0             1      1   \n",
       "1        False          29                 NaN             1      0   \n",
       "2         True         148          68780839.0             3      1   \n",
       "3         True          49          73344310.0             1      0   \n",
       "4         True        3420          42837921.0             4      1   \n",
       "\n",
       "   last_activity_date       creation_date  last_edit_date  question_id  \\\n",
       "0          1660575957 2022-08-15 10:57:09    1.660572e+09     73360040   \n",
       "1          1660571955 2022-08-15 11:40:25    1.660572e+09     73360506   \n",
       "2          1660546079 2021-08-14 05:46:17             NaN     68780689   \n",
       "3          1660500298 2022-08-13 12:15:55    1.660500e+09     73344189   \n",
       "4          1660452097 2017-03-16 07:57:34    1.660452e+09     42828273   \n",
       "\n",
       "  content_license                                               link  \\\n",
       "0    CC BY-SA 4.0  https://stackoverflow.com/questions/73360040/e...   \n",
       "1    CC BY-SA 4.0  https://stackoverflow.com/questions/73360506/p...   \n",
       "2    CC BY-SA 4.0  https://stackoverflow.com/questions/68780689/w...   \n",
       "3    CC BY-SA 4.0  https://stackoverflow.com/questions/73344189/h...   \n",
       "4    CC BY-SA 4.0  https://stackoverflow.com/questions/42828273/b...   \n",
       "\n",
       "                                               title  closed_date  \\\n",
       "0                 Explanation for Perl syntax needed          NaN   \n",
       "1  Perl Imager - libpng PNG libraries or headers ...          NaN   \n",
       "2  Why is my perl split(), at all 3rd occurences ...          NaN   \n",
       "3  How to check if my build version is above x.x....          NaN   \n",
       "4  Bash. Hex to ascii. Is possible without xxd or...          NaN   \n",
       "\n",
       "  closed_reason  \n",
       "0           NaN  \n",
       "1           NaN  \n",
       "2           NaN  \n",
       "3           NaN  \n",
       "4           NaN  "
      ]
     },
     "execution_count": 119,
     "metadata": {},
     "output_type": "execute_result"
    }
   ],
   "source": [
    "items = pd.DataFrame(data['items'])\n",
    "items['creation_date'] = pd.to_datetime(items['creation_date'],unit='s')\n",
    "items.head()"
   ]
  },
  {
   "cell_type": "code",
   "execution_count": 120,
   "metadata": {},
   "outputs": [
    {
     "data": {
      "text/plain": [
       "6"
      ]
     },
     "execution_count": 120,
     "metadata": {},
     "output_type": "execute_result"
    }
   ],
   "source": [
    "data_answered = []\n",
    "data_notAnswered = []\n",
    "for item in data['items']:\n",
    "    if item['is_answered'] == True:\n",
    "        data_answered.append(item)\n",
    "    else: data_notAnswered.append(item)\n",
    "len(data_answered)\n",
    "len(data_notAnswered)"
   ]
  },
  {
   "cell_type": "markdown",
   "metadata": {},
   "source": [
    "tags\towner\tis_answered\tview_count\taccepted_answer_id\tanswer_count\tscore\tlast_activity_date\tcreation_date\tlast_edit_date\tquestion_id\tcontent_license\tlink\ttitle\tclosed_date\tclosed_reason"
   ]
  },
  {
   "cell_type": "code",
   "execution_count": 121,
   "metadata": {},
   "outputs": [
    {
     "data": {
      "text/plain": [
       "tags                                                  [c++, cmake, itk]\n",
       "owner                 {'reputation': 1, 'user_id': 12641220, 'user_t...\n",
       "is_answered                                                       False\n",
       "view_count                                                           23\n",
       "accepted_answer_id                                                  NaN\n",
       "answer_count                                                          0\n",
       "score                                                                 0\n",
       "last_activity_date                                           1660354359\n",
       "creation_date                                       2022-08-13 01:32:39\n",
       "last_edit_date                                                      NaN\n",
       "question_id                                                    73341026\n",
       "content_license                                            CC BY-SA 4.0\n",
       "link                  https://stackoverflow.com/questions/73341026/w...\n",
       "title                  when cmake build ITK occur Perl Error in Windows\n",
       "closed_date                                                         NaN\n",
       "closed_reason                                                       NaN\n",
       "Name: 8, dtype: object"
      ]
     },
     "execution_count": 121,
     "metadata": {},
     "output_type": "execute_result"
    }
   ],
   "source": [
    "byViews = items.sort_values('view_count')\n",
    "byViews.iloc[0]"
   ]
  },
  {
   "cell_type": "code",
   "execution_count": 122,
   "metadata": {},
   "outputs": [
    {
     "data": {
      "text/plain": [
       "tags                                             [perl, cross-platform]\n",
       "owner                 {'reputation': 25631, 'user_id': 6444, 'user_t...\n",
       "is_answered                                                        True\n",
       "view_count                                                        69332\n",
       "accepted_answer_id                                             334700.0\n",
       "answer_count                                                         11\n",
       "score                                                                60\n",
       "last_activity_date                                           1660317247\n",
       "creation_date                                       2008-12-02 16:59:00\n",
       "last_edit_date                                             1228353831.0\n",
       "question_id                                                      334686\n",
       "content_license                                            CC BY-SA 2.5\n",
       "link                  https://stackoverflow.com/questions/334686/how...\n",
       "title                    How can I detect the operating system in Perl?\n",
       "closed_date                                                         NaN\n",
       "closed_reason                                                       NaN\n",
       "Name: 14, dtype: object"
      ]
     },
     "execution_count": 122,
     "metadata": {},
     "output_type": "execute_result"
    }
   ],
   "source": [
    "byCreationDate = items.sort_values('creation_date')\n",
    "byCreationDate.iloc[0]"
   ]
  },
  {
   "cell_type": "code",
   "execution_count": 123,
   "metadata": {},
   "outputs": [
    {
     "data": {
      "text/plain": [
       "tags                                              [macos, perl, libpng]\n",
       "owner                 {'reputation': 1, 'user_id': 19767508, 'user_t...\n",
       "is_answered                                                       False\n",
       "view_count                                                           29\n",
       "accepted_answer_id                                                  NaN\n",
       "answer_count                                                          1\n",
       "score                                                                 0\n",
       "last_activity_date                                           1660571955\n",
       "creation_date                                       2022-08-15 11:40:25\n",
       "last_edit_date                                             1660571955.0\n",
       "question_id                                                    73360506\n",
       "content_license                                            CC BY-SA 4.0\n",
       "link                  https://stackoverflow.com/questions/73360506/p...\n",
       "title                 Perl Imager - libpng PNG libraries or headers ...\n",
       "closed_date                                                         NaN\n",
       "closed_reason                                                       NaN\n",
       "Name: 1, dtype: object"
      ]
     },
     "execution_count": 123,
     "metadata": {},
     "output_type": "execute_result"
    }
   ],
   "source": [
    "byCreationDate.iloc[-1]"
   ]
  },
  {
   "cell_type": "code",
   "execution_count": 135,
   "metadata": {},
   "outputs": [
    {
     "data": {
      "text/plain": [
       "{'reputation': 25631,\n",
       " 'user_id': 6444,\n",
       " 'user_type': 'registered',\n",
       " 'accept_rate': 78,\n",
       " 'profile_image': 'https://www.gravatar.com/avatar/1510549f9353c9859b7b3c81872df09c?s=256&d=identicon&r=PG',\n",
       " 'display_name': 'mxcl',\n",
       " 'link': 'https://stackoverflow.com/users/6444/mxcl'}"
      ]
     },
     "execution_count": 135,
     "metadata": {},
     "output_type": "execute_result"
    }
   ],
   "source": [
    "rep = 0\n",
    "for owner in items['owner']:\n",
    "    if owner['reputation'] > rep: \n",
    "        rep = owner['reputation']\n",
    "        bestOwner = owner\n",
    "bestOwner"
   ]
  }
 ],
 "metadata": {
  "kernelspec": {
   "display_name": "Python 3.9.12 ('base')",
   "language": "python",
   "name": "python3"
  },
  "language_info": {
   "codemirror_mode": {
    "name": "ipython",
    "version": 3
   },
   "file_extension": ".py",
   "mimetype": "text/x-python",
   "name": "python",
   "nbconvert_exporter": "python",
   "pygments_lexer": "ipython3",
   "version": "3.9.12"
  },
  "orig_nbformat": 4,
  "vscode": {
   "interpreter": {
    "hash": "3a95b72ad26caed2f125c20bb8f543b875a0d1a71c369d3d6c01c0c3af4e63b9"
   }
  }
 },
 "nbformat": 4,
 "nbformat_minor": 2
}
